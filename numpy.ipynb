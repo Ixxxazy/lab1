{
  "cells": [
    {
      "cell_type": "markdown",
      "metadata": {
        "id": "vC84e9kzyxPy"
      },
      "source": [
        "<h1>Импорт библиотек"
      ]
    },
    {
      "cell_type": "code",
      "execution_count": 3,
      "metadata": {
        "id": "cgKeNegmQG5S"
      },
      "outputs": [],
      "source": [
        "import numpy as np\n",
        "import matplotlib.pyplot as plt"
      ]
    },
    {
      "cell_type": "markdown",
      "metadata": {
        "id": "qFM9uVU2x4Ls"
      },
      "source": [
        "<h1>Задача 1. Дан набор из $p$ матриц размерностью $(n, n)$ и $p$ векторов размерностью $(n, 1)$, найти сумму произведений матриц на векторы. Написать тесты для кода"
      ]
    },
    {
      "cell_type": "code",
      "execution_count": null,
      "metadata": {
        "id": "IAbUvEiYyWFF"
      },
      "outputs": [],
      "source": [
        "def sum_prod(X, V):\n",
        "    '''\n",
        "    X - матрицы (n, n)\n",
        "    V - векторы (n, 1)\n",
        "    Гарантируется, что len(X) == len(V)\n",
        "\n",
        "    Возвращает сумму произведений матриц на векторы.\n",
        "    '''\n",
        "    if len(X) != len(V):\n",
        "        raise ValueError(\"X should be equal V.\")\n",
        "\n",
        "    result = np.zeros_like(V[0],\n",
        "                           dtype=float)  # Инициализируем результат нулевым вектором\n",
        "\n",
        "    for matrix, vector in zip(X, V):\n",
        "        result += np.dot(matrix, vector).astype(float)  # Приводим произведение к типу float и суммируем\n",
        "\n",
        "    return result\n",
        "\n",
        "\n",
        "def test_sum_prod():\n",
        "    # Тест 1: Обработка неправильной длины списков\n",
        "    X = [np.array([[1, 2]])]\n",
        "    V = [np.array([[1], [1]]), np.array([[1], [1]])]\n",
        "    try:\n",
        "        sum_prod(X, V)\n",
        "    except ValueError as e:\n",
        "        assert str(e) == \"X should be equal V.\", \"Test case 1 failed\"\n",
        "\n",
        "    # Тест 2: Простые матрицы и векторы\n",
        "    X = [np.array([[1, 2], [3, 4]]), np.array([[5, 6], [7, 8]])]\n",
        "    V = [np.array([[1], [0]]), np.array([[0], [1]])]\n",
        "    expected = np.array([[7], [11]], dtype=float)\n",
        "    assert np.array_equal(sum_prod(X, V), expected), f\"Test case 2 failed. Expected {expected}, but got {sum_prod(X, V)}\"\n",
        "\n",
        "    # Тест 3: Единичные матрицы и векторы\n",
        "    X = [np.eye(2), np.eye(2)]\n",
        "    V = [np.array([[1], [1]]), np.array([[1], [1]])]\n",
        "    expected = np.array([[2], [2]], dtype=float)\n",
        "    assert np.array_equal(sum_prod(X, V), expected), f\"Test case 3 failed. Expected {expected}, but got {sum_prod(X, V)}\"\n",
        "\n",
        "    # Тест 4: Матрицы с нулями\n",
        "    X = [np.zeros((2, 2)), np.array([[1, 2], [3, 4]])]\n",
        "    V = [np.array([[1], [1]]), np.array([[1], [1]])]\n",
        "    expected = np.array([[3], [7]], dtype=float)\n",
        "    assert np.array_equal(sum_prod(X, V), expected), f\"Test case 4 failed. Expected {expected}, but got {sum_prod(X, V)}\"\n",
        "\n",
        "    print(\"All tests passed!\")\n",
        "\n",
        "\n",
        "if __name__ == \"__main__\":\n",
        "    test_sum_prod()"
      ]
    },
    {
      "cell_type": "markdown",
      "metadata": {
        "id": "TKwPG4fIy2w4"
      },
      "source": [
        "<h1>Задача 2. Дана матрица M, напишите функцию, которая бинаризует матрицу по некоторому threshold (то есть, все значения большие threshold становятся равными 1, иначе 0). Напишите тесты для кода"
      ]
    },
    {
      "cell_type": "code",
      "execution_count": null,
      "metadata": {
        "id": "KQDNMgsjRNH7"
      },
      "outputs": [],
      "source": [
        "def binarize(M, threshold=0.5):\n",
        "    return (M >= threshold).astype(int)  # Преобразуем к int, чтобы получить 0 или 1\n",
        "\n",
        "\n",
        "# Тесты\n",
        "def test_binarize():\n",
        "    # Тест 1: Простая матрица\n",
        "    M = np.array([[0.1, 0.4], [0.6, 0.9]])\n",
        "    expected = np.array([[0, 0], [1, 1]])\n",
        "    assert np.array_equal(binarize(M, 0.5), expected), f\"Test case 1 failed. Expected {expected}, but got {binarize(M, 0.5)}\"\n",
        "\n",
        "    # Тест 2: Единичная матрица\n",
        "    M = np.eye(3)\n",
        "    expected = np.array([[1, 0, 0], [0, 1, 0], [0, 0, 1]])\n",
        "    assert np.array_equal(binarize(M, 1.0), expected), f\"Test case 2 failed. Expected {expected}, but got {binarize(M, 1.0)}\"\n",
        "\n",
        "    # Тест 3: Матрица с отрицательными числами\n",
        "    M = np.array([[-1, 0], [0.5, 1.5]])\n",
        "    expected = np.array([[0, 0], [0, 1]])\n",
        "    assert np.array_equal(binarize(M, 1.0), expected), f\"Test case 3 failed. Expected {expected}, but got {binarize(M, 1.0)}\"\n",
        "\n",
        "    print(\"All tests passed!\")\n",
        "\n",
        "\n",
        "if __name__ == \"__main__\":\n",
        "    test_binarize()\n"
      ]
    },
    {
      "cell_type": "markdown",
      "metadata": {
        "id": "IY5L-h-7zWhN"
      },
      "source": [
        "<h1>Задача 3. Напишите функцию, которая возвращает уникальные элементы из каждой строки матрицы. Напишите такую же функцию, но для столбцов. Напишите тесты для кода"
      ]
    },
    {
      "cell_type": "code",
      "execution_count": null,
      "metadata": {
        "id": "-8dEZhR0SBC-"
      },
      "outputs": [],
      "source": [
        "def unique_rows(mat):\n",
        "    return np.array([np.unique(row) for row in mat])\n",
        "\n",
        "\n",
        "def unique_columns(mat):\n",
        "    if mat.shape[0] == 0:  # Проверяем, является ли матрица пустой\n",
        "        return np.array([])  # Возвращаем пустой массив\n",
        "    return np.array([np.unique(mat[:, col]) for col in range(mat.shape[1])])\n",
        "\n",
        "\n",
        "def test_unique_functions():\n",
        "    # Тест 1: Простой случай\n",
        "    mat = np.array([[1, 2, 2],\n",
        "                    [3, 3, 4],\n",
        "                    [5, 6, 6]])\n",
        "    expected_rows = np.array([[1, 2], [3, 4], [5, 6]])  # Ожидаемое значение для строк\n",
        "    expected_columns = [np.array([1, 3, 5]), np.array([2, 3, 6]),\n",
        "                        np.array([2, 4, 6])]  # Ожидаемое значение для столбцов\n",
        "    assert np.array_equal(unique_rows(mat), expected_rows), f\"Test case 1 failed. Expected {expected_rows}, but got {unique_rows(mat)}\"\n",
        "\n",
        "    # Проверяем уникальные элементы для столбцов\n",
        "    unique_col_results = unique_columns(mat)\n",
        "    for i in range(len(expected_columns)):\n",
        "        assert np.array_equal(unique_col_results[i],\n",
        "                              expected_columns[i]), f\"Test case 2 failed. Expected {expected_columns[i]}, but got {unique_col_results[i]}\"\n",
        "\n",
        "    # Тест 2: Матрица с одинаковыми элементами\n",
        "    mat = np.array([[1, 1, 1],\n",
        "                    [1, 1, 1],\n",
        "                    [1, 1, 1]])\n",
        "    expected_rows = np.array([[1], [1], [1]])  # Все строки содержат только 1\n",
        "    expected_columns = [np.array([1])]  # Все столбцы содержат только 1\n",
        "    assert np.array_equal(unique_rows(mat), expected_rows), f\"Test case 3 failed. Expected {expected_rows}, but got {unique_rows(mat)}\"\n",
        "\n",
        "    # Проверяем уникальные элементы для столбцов\n",
        "    unique_col_results = unique_columns(mat)\n",
        "    assert np.array_equal(unique_col_results[0],\n",
        "                          np.array([1])), f\"Test case 4 failed. Expected {np.array([1])}, but got {unique_col_results[0]}\"\n",
        "\n",
        "    # Тест 3: Пустая матрица\n",
        "    mat = np.empty((0, 3))  # Пустая матрица с 3 столбцами\n",
        "    expected_rows = np.empty((0,))  # Пустой результат, так как нет строк\n",
        "    assert np.array_equal(unique_rows(mat), expected_rows), f\"Test case 5 failed. Expected {expected_rows}, but got {unique_rows(mat)}\"\n",
        "\n",
        "    # Проверяем пустые столбцы\n",
        "    unique_col_results = unique_columns(mat)\n",
        "    assert unique_col_results.size == 0, \"Test case 6 failed. Expected empty result for columns\"  # Проверяем, что результат пустой\n",
        "\n",
        "    print(\"All tests passed!\")\n",
        "\n",
        "\n",
        "if __name__ == \"__main__\":\n",
        "    test_unique_functions()\n"
      ]
    },
    {
      "cell_type": "markdown",
      "metadata": {
        "id": "roYAlo4Jz-lH"
      },
      "source": [
        "<h1>Задача 4. Напишите функцию, которая заполняет матрицу с размерами $(m, n)$ случайными числами, распределенными по нормальному закону. Затем считает мат. ожидание и дисперсию для каждого из столбцов и строк, а также строит для каждой строки и столбца гистограмму значений (использовать функцию hist из модуля matplotlib.plot)"
      ]
    },
    {
      "cell_type": "code",
      "execution_count": null,
      "metadata": {
        "id": "nZK_71hMSQzv"
      },
      "outputs": [],
      "source": [
        "def generate_matrix(m, n):\n",
        "    \"\"\"Генерирует матрицу размером (m, n) со случайными числами, распределенными по нормальному закону.\"\"\"\n",
        "    return np.random.normal(loc=0, scale=1, size=(m, n))\n",
        "\n",
        "\n",
        "def compute_statistics(matrix):\n",
        "    \"\"\"Вычисляет мат. ожидание и дисперсию для строк и столбцов матрицы.\"\"\"\n",
        "    row_means = np.mean(matrix, axis=1)  # Мат ожидание для строк\n",
        "    row_variances = np.var(matrix, axis=1)  # Дисперсия для строк\n",
        "\n",
        "    col_means = np.mean(matrix, axis=0)  # Мат ожидание для столбцов\n",
        "    col_variances = np.var(matrix, axis=0)  # Дисперсия для столбцов\n",
        "\n",
        "    return (row_means, row_variances), (col_means, col_variances)\n",
        "\n",
        "\n",
        "def plot_histograms(matrix):\n",
        "    \"\"\"Строит гистограммы для каждой строки и столбца матрицы.\"\"\"\n",
        "    # Гистограммы для строк\n",
        "    for i, row in enumerate(matrix):\n",
        "        plt.figure(figsize=(10, 4))\n",
        "        plt.hist(row, bins=20, alpha=0.7, color='blue', edgecolor='black')\n",
        "        plt.title(f'Histogram of Row {i}')\n",
        "        plt.xlabel('Value')\n",
        "        plt.ylabel('Frequency')\n",
        "        plt.grid(axis='y', alpha=0.75)\n",
        "        plt.show()\n",
        "\n",
        "    # Гистограммы для столбцов\n",
        "    for j in range(matrix.shape[1]):\n",
        "        plt.figure(figsize=(10, 4))\n",
        "        plt.hist(matrix[:, j], bins=20, alpha=0.7, color='green', edgecolor='black')\n",
        "        plt.title(f'Histogram of Column {j}')\n",
        "        plt.xlabel('Value')\n",
        "        plt.ylabel('Frequency')\n",
        "        plt.grid(axis='y', alpha=0.75)\n",
        "        plt.show()\n",
        "\n",
        "\n",
        "def main(m, n):\n",
        "    \"\"\"Основная функция для генерации матрицы и вычисления статистики.\"\"\"\n",
        "    matrix = generate_matrix(m, n)\n",
        "    print(\"Generated Matrix:\")\n",
        "    print(matrix)\n",
        "\n",
        "    (row_means, row_variances), (col_means, col_variances) = compute_statistics(matrix)\n",
        "\n",
        "    print(\"\\nRow Means:\", row_means)\n",
        "    print(\"Row Variances:\", row_variances)\n",
        "    print(\"Column Means:\", col_means)\n",
        "    print(\"Column Variances:\", col_variances)\n",
        "\n",
        "    plot_histograms(matrix)\n",
        "\n",
        "\n",
        "if __name__ == \"__main__\":\n",
        "    m = 5  # Количество строк\n",
        "    n = 4  # Количество столбцов\n",
        "    main(m, n)"
      ]
    },
    {
      "cell_type": "markdown",
      "metadata": {
        "id": "BDyATNdM0dJ2"
      },
      "source": [
        "<h1>Задача 5. Напишите функцию, которая заполняет матрицу $(m, n)$ в шахматном порядке заданными числами $a$ и $b$. Напишите тесты для кода"
      ]
    },
    {
      "cell_type": "code",
      "execution_count": null,
      "metadata": {
        "id": "RWNJYWQGecS6"
      },
      "outputs": [],
      "source": [
        "def chess(m, n, a, b):\n",
        "    \"\"\"Создает матрицу размером (m, n), заполненную числами a и b в шахматном порядке.\"\"\"\n",
        "    matrix = np.zeros((m, n))  # Инициализация матрицы нулями\n",
        "    for i in range(m):\n",
        "        for j in range(n):\n",
        "            if (i + j) % 2 == 0:\n",
        "                matrix[i, j] = a  # Заполняем a на четных позициях\n",
        "            else:\n",
        "                matrix[i, j] = b  # Заполняем b на нечетных позициях\n",
        "    return matrix\n",
        "\n",
        "def test_chess():\n",
        "    # Тест 1: Простой случай\n",
        "    expected_1 = np.array([[1, 2], [2, 1]])\n",
        "    result_1 = chess(2, 2, 1, 2)\n",
        "    assert np.array_equal(result_1, expected_1), f\"Test case 1 failed. Expected {expected_1}, but got {result_1}\"\n",
        "\n",
        "    # Тест 2: Большая матрица\n",
        "    expected_2 = np.array([[1, 2, 1], [2, 1, 2], [1, 2, 1]])\n",
        "    result_2 = chess(3, 3, 1, 2)\n",
        "    assert np.array_equal(result_2, expected_2), f\"Test case 2 failed. Expected {expected_2}, but got {result_2}\"\n",
        "\n",
        "    # Тест 3: Четные размеры\n",
        "    expected_3 = np.array([[1, 2, 1, 2], [2, 1, 2, 1]])  # Исправлено на 2x4 матрицу\n",
        "    result_3 = chess(2, 4, 1, 2)\n",
        "    assert np.array_equal(result_3, expected_3), f\"Test case 3 failed. Expected {expected_3}, but got {result_3}\"\n",
        "\n",
        "    # Тест 4: Пустая матрица\n",
        "    expected_4 = np.empty((0, 0))\n",
        "    result_4 = chess(0, 0, 1, 2)\n",
        "    assert np.array_equal(result_4, expected_4), f\"Test case 4 failed. Expected {expected_4}, but got {result_4}\"\n",
        "\n",
        "    print(\"All tests passed!\")\n",
        "\n",
        "\n",
        "if __name__ == \"__main__\":\n",
        "    test_chess()\n",
        "    "
      ]
    },
    {
      "cell_type": "markdown",
      "metadata": {
        "id": "-ymXLtTN0vB6"
      },
      "source": [
        "<h1>Задача 6. Напишите функцию, которая отрисовывает прямоугольник с заданными размерами (a, b) на изображении размера (m, n), цвет фона задайте в схеме RGB, как и цвет прямоугольника. Цвета также должны быть параметрами функции. Напишите аналогичную функцию но для овала с полуосями a и b. Напишите тесты для кода.\n",
        "Примечание: уравнение эллипса (границы овала) можно записать как:\n",
        "<h1>$\\frac{(x-x_0)^2}{a^2}+\\frac{(y-y_0)^2}{b^2}=1$"
      ]
    },
    {
      "cell_type": "code",
      "execution_count": 1,
      "metadata": {
        "id": "sNfl1t_kfOF4"
      },
      "outputs": [],
      "source": [
        "import numpy as np\n",
        "import matplotlib.pyplot as plt\n",
        "\n",
        "\n",
        "def draw_rectangle(a, b, m, n, rectangle_color, background_color):\n",
        "    # Создаем изображение с фоном\n",
        "    img = np.ones((n, m, 3), dtype=np.uint8)\n",
        "    img[:, :] = background_color\n",
        "\n",
        "    # Координаты прямоугольника, расположенного по центру\n",
        "    start_x = (m - a) // 2\n",
        "    start_y = (n - b) // 2\n",
        "\n",
        "    # Заполняем область прямоугольника\n",
        "    img[start_y:start_y + b, start_x:start_x + a] = rectangle_color\n",
        "\n",
        "    # Отрисовка с помощью matplotlib\n",
        "    plt.imshow(img)\n",
        "    plt.axis('off')  # Отключаем оси для более чистого изображения\n",
        "    plt.show()\n",
        "\n",
        "\n",
        "def draw_ellipse(a, b, m, n, ellipse_color, background_color):\n",
        "    # Создаем изображение с фоном\n",
        "    img = np.ones((n, m, 3), dtype=np.uint8)\n",
        "    img[:, :] = background_color\n",
        "\n",
        "    # Центр эллипса\n",
        "    center_x = m // 2\n",
        "    center_y = n // 2\n",
        "\n",
        "    # Создаем сетку координат\n",
        "    y, x = np.ogrid[:n, :m]\n",
        "\n",
        "    # Уравнение эллипса: ((x - x0)^2 / a^2) + ((y - y0)^2 / b^2) <= 1\n",
        "    ellipse_mask = ((x - center_x) ** 2 / a ** 2 + (y - center_y) ** 2 / b ** 2) <= 1\n",
        "\n",
        "    # Закрашиваем эллипс\n",
        "    img[ellipse_mask] = ellipse_color\n",
        "\n",
        "    # Отрисовка с помощью matplotlib\n",
        "    plt.imshow(img)\n",
        "    plt.axis('off')  # Отключаем оси для более чистого изображения\n",
        "    plt.show()\n",
        "\n",
        "\n",
        "if __name__ == \"__main__\":\n",
        "    draw_rectangle(100, 50, 300, 200, [255, 0, 0], [255, 255, 255])\n",
        "    draw_ellipse(100, 50, 300, 200, [0, 0, 255], [255, 255, 255])"
      ]
    },
    {
      "cell_type": "markdown",
      "metadata": {
        "id": "S82c38oz244H"
      },
      "source": [
        "<h1>Задача 7. Дан некий временной ряд. Для данного ряда нужно найти его: математическое ожидание, дисперсию, СКО, найти все локальные максимумы и минимумы (локальный максимум - это точка, которая больше своих соседних точек, а локальный минимум - это точка, которая меньше своих соседей), а также вычислить для данного ряда другой ряд, получаемый методом скользящего среднего с размером окна $p$.\n",
        "<h1>Примечание: метод скользящего среднего подразумевает нахождение среднего из подмножетсва ряда размером $p$"
      ]
    },
    {
      "cell_type": "code",
      "execution_count": null,
      "metadata": {
        "id": "Zb9mIVge5MMt"
      },
      "outputs": [],
      "source": [
        "def calculate_statistics(series):\n",
        "    \"\"\"Вычисляет математическое ожидание, дисперсию и СКО.\"\"\"\n",
        "    mean = np.mean(series)\n",
        "    variance = np.var(series)\n",
        "    std_dev = np.std(series)\n",
        "    return mean, variance, std_dev\n",
        "\n",
        "\n",
        "def find_local_extrema(series):\n",
        "    \"\"\"Находит локальные максимумы и минимумы.\"\"\"\n",
        "    local_maxima = []\n",
        "    local_minima = []\n",
        "\n",
        "    for i in range(1, len(series) - 1):\n",
        "        if series[i] > series[i - 1] and series[i] > series[i + 1]:\n",
        "            local_maxima.append(i)\n",
        "        elif series[i] < series[i - 1] and series[i] < series[i + 1]:\n",
        "            local_minima.append(i)\n",
        "\n",
        "    return np.array(local_maxima), np.array(local_minima)\n",
        "\n",
        "\n",
        "def moving_average(series, window_size):\n",
        "    \"\"\"Вычисляет скользящее среднее.\"\"\"\n",
        "    if window_size > len(series):\n",
        "        return np.array([])  # Если размер окна больше длины ряда, возвращаем пустой массив\n",
        "    return np.convolve(series, np.ones(window_size) / window_size, mode='valid')\n",
        "\n",
        "\n",
        "if __name__ == \"__main__\":\n",
        "    time_series = np.array([1, 3, 2, 5, 4, 6, 7, 3, 2, 5, 8, 10, 9, 8, 12])\n",
        "    # Вычисление статистик\n",
        "    mean, variance, std_dev = calculate_statistics(time_series)\n",
        "    print(f\"Математическое ожидание: {mean}\")\n",
        "    print(f\"Дисперсия: {variance}\")\n",
        "    print(f\"СКО: {std_dev}\")\n",
        "\n",
        "    # Нахождение локальных максимумов и минимумов\n",
        "    local_maxima, local_minima = find_local_extrema(time_series)\n",
        "    print(f\"Локальные максимумы: {local_maxima}\")\n",
        "    print(f\"Локальные минимумы: {local_minima}\")\n",
        "\n",
        "    # Вычисление скользящего среднего с размером окна p\n",
        "    p = 3\n",
        "    moving_avg = moving_average(time_series, p)\n",
        "    print(f\"Скользящее среднее (p={p}): {moving_avg}\")"
      ]
    },
    {
      "cell_type": "markdown",
      "metadata": {
        "id": "jPkylmOX5O9n"
      },
      "source": [
        "<h1> Задача 8. Дан некоторый вектор с целочисленными метками классов, напишите функцию, которая выполняет one-hot-encoding для данного вектора\n",
        "<h1> One-hot-encoding - представление, в котором на месте метки некоторого класса стоит 1, в остальных позициях стоит 0. Например для вектора [0, 2, 3, 0] one-hot-encoding выглядит как: [[1, 0, 0, 0], [0, 0, 1, 0], [0, 0, 0, 1], [1, 0, 0, 0]]"
      ]
    },
    {
      "cell_type": "code",
      "execution_count": null,
      "metadata": {
        "id": "Y-jlnZvw56lD"
      },
      "outputs": [],
      "source": [
        "def one_hot_encode(vec):\n",
        "    n_classes = np.max(vec) + 1  # Определение количества классов\n",
        "    one_hot = np.zeros((len(vec), n_classes), dtype=int)  # Создание матрицы с нулями\n",
        "    one_hot[np.arange(len(vec)), vec] = 1  # Заполнение соответствующих ячеек единицами\n",
        "    return one_hot\n",
        "\n",
        "vec = np.array([0, 2, 3, 0])\n",
        "print(one_hot_encode(vec))"
      ]
    }
  ],
  "metadata": {
    "colab": {
      "provenance": []
    },
    "kernelspec": {
      "display_name": "Python 3",
      "name": "python3"
    },
    "language_info": {
      "name": "python"
    }
  },
  "nbformat": 4,
  "nbformat_minor": 0
}

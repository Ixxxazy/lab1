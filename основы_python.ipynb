{
  "cells": [
    {
      "cell_type": "markdown",
      "metadata": {
        "id": "M-DGa20PaHnu"
      },
      "source": [
        "#Задача 1\n",
        "Написать функцию на вход которой подается строка, состоящая из латинских букв.\n",
        "Функция должна вернуть количество гласных букв (a, e, i, o, u) в этой строке. Написать тесты для кода"
      ]
    },
    {
      "cell_type": "code",
      "execution_count": null,
      "metadata": {
        "id": "XvX8X_JJ6PCb"
      },
      "outputs": [],
      "source": [
        "def vowel_counter(lat_str):\n",
        "    lat_str_striped = lat_str.strip().lower()\n",
        "    vowel_c = 0\n",
        "\n",
        "    for letter in lat_str_striped:\n",
        "        if letter in vowel_tuple:\n",
        "            vowel_c += 1\n",
        "    return vowel_c\n",
        "\n",
        "\n",
        "def test_vowel_counter():\n",
        "    assert vowel_counter(\"He invested some skill points in Charisma and Strength\") == 15, \"Test case 1 failed\"\n",
        "    assert vowel_counter(\"It's not often you find a soggy banana on the street\") == 16, \"Test case 2 failed\"\n",
        "    assert vowel_counter(\"I may struggle with geography, but I'm sure I'm somewhere around here\") == 22, \"Test case 3 failed\"\n",
        "    assert vowel_counter(\"It must be five o'clock somewhere\") == 11, \"Test case 4 failed\"\n",
        "    assert vowel_counter(\"wrthskd\") == 0, \"Test case 5 failed\"\n",
        "    assert vowel_counter(\"\") == 0, \"Test case 6 failed\"\n",
        "    print(\"Everything passed\")\n",
        "\n",
        "\n",
        "vowel_tuple = (\"a\", \"e\", \"i\", \"o\", \"u\")\n",
        "if __name__ == \"__main__\":\n",
        "    test_vowel_counter()\n"
      ]
    },
    {
      "cell_type": "markdown",
      "metadata": {
        "id": "t2ClV_Y0bbr6"
      },
      "source": [
        "# Задача 2\n",
        "Написать функцию на вход, которой подается строка. Функция должна вернуть true, если\n",
        "каждый символ в строке встречается только 1 раз, иначе должна вернуть false. Написать тесты для кода"
      ]
    },
    {
      "cell_type": "code",
      "execution_count": null,
      "metadata": {
        "id": "FppbECao6VIz"
      },
      "outputs": [],
      "source": [
        "def unique_check(lat_str):\n",
        "    unique_list = []\n",
        "    for symbol in lat_str:\n",
        "        if symbol in unique_list:\n",
        "            return False\n",
        "        unique_list.append(symbol)\n",
        "\n",
        "    return True\n",
        "\n",
        "\n",
        "def test_unique_check():\n",
        "    assert unique_check(\"He invested some skill points in Charisma and Strength\") == False, \"Test case 1 failed\"\n",
        "    assert unique_check(\"It's not often you find a soggy banana on the street\") == False, \"Test case 2 failed\"\n",
        "    assert unique_check(\"   \") == False, \"Test case 3 failed\"\n",
        "    assert unique_check(\"qwertyuiasdkjxzc\") == True, \"Test case 4 failed\"\n",
        "    assert unique_check(\"\") == True, \"Test case 5 failed\"\n",
        "    print(\"Everything passed\")\n",
        "\n",
        "\n",
        "if __name__ == \"__main__\":\n",
        "    test_unique_check()\n"
      ]
    },
    {
      "cell_type": "markdown",
      "metadata": {
        "id": "udRiIK1cdt6E"
      },
      "source": [
        "# Задача 3\n",
        "Написать функцию, которая принимает положительное число и возвращает количество\n",
        "бит равных 1 в этом числе. Написать тесты для кода"
      ]
    },
    {
      "cell_type": "code",
      "execution_count": null,
      "metadata": {
        "id": "6tkfDJRz6dp_"
      },
      "outputs": [],
      "source": [
        "def count_ones(n):\n",
        "    if n < 0:\n",
        "        raise ValueError(\"Input must be a positive integer\")\n",
        "    return bin(n).count('1')\n",
        "\n",
        "\n",
        "def test_count_ones():\n",
        "    assert count_ones(0) == 0, \"Test case 1 failed\"\n",
        "    assert count_ones(1) == 1, \"Test case 2 failed\"\n",
        "    assert count_ones(2) == 1, \"Test case 3 failed\"\n",
        "    assert count_ones(3) == 2, \"Test case 4 failed\"\n",
        "    assert count_ones(11) == 3, \"Test case 5 failed\"\n",
        "    assert count_ones(246) == 6, \"Test case 6 failed\"\n",
        "    assert count_ones(512) == 1, \"Test case 7 failed\"\n",
        "    assert count_ones(20563) == 6, \"Test case 8 failed\"\n",
        "    print(\"Everything passed\")\n",
        "\n",
        "\n",
        "if __name__ == \"__main__\":\n",
        "    test_count_ones()\n"
      ]
    },
    {
      "cell_type": "markdown",
      "metadata": {
        "id": "26dDUz-Ae17N"
      },
      "source": [
        "# Задача 4\n",
        "Написать функцию, которая принимает положительное число. Функция должна вернуть то,\n",
        "сколько раз необходимо перемножать цифры числа или результат перемножения, чтобы\n",
        "получилось число состоящее из одной цифры.\n",
        "Например, для входного числа:\n",
        "· 39 функция должна вернуть 3, так как 3*9=27 => 2*7=14 => 1*4=4\n",
        "· 4 функция должна вернуть 0, так как число уже состоит из одной цифры\n",
        "· 999 функция должна вернуть 4, так как 9*9*9=729 => 7*2*9=126 => 1*2*6=12 =>\n",
        "1*2=2. Написать тесты для кода"
      ]
    },
    {
      "cell_type": "code",
      "execution_count": null,
      "metadata": {
        "id": "BH1A_Mgi6i4G"
      },
      "outputs": [],
      "source": [
        "def magic(n):\n",
        "    n_list = list(str(n))\n",
        "    counter = 0\n",
        "    while len(n_list) > 1:\n",
        "        multiplication = 1\n",
        "        for element in n_list:\n",
        "            multiplication *= int(element)\n",
        "        n_list = list(str(multiplication))\n",
        "        counter += 1\n",
        "    return counter\n",
        "\n",
        "\n",
        "def test_magic():\n",
        "    assert magic(39) == 3, \"Test case 1 failed\"\n",
        "    assert magic(4) == 0, \"Test case 2 failed\"\n",
        "    assert magic(999) == 4, \"Test case 3 failed\"\n",
        "    assert magic(0) == 0, \"Test case 4 failed\"\n",
        "    print(\"Everything passed\")\n",
        "\n",
        "\n",
        "if __name__ == \"__main__\":\n",
        "    test_magic()\n"
      ]
    },
    {
      "cell_type": "markdown",
      "metadata": {
        "id": "0nS-kIa8g8vd"
      },
      "source": [
        "# Задача 5\n",
        "Написать функцию, которая принимает два целочисленных вектора одинаковой длины и\n",
        "возвращает среднеквадратическое отклонение двух векторов. Написать тесты для кода"
      ]
    },
    {
      "cell_type": "code",
      "execution_count": null,
      "metadata": {
        "id": "8iphx4LM6xbx"
      },
      "outputs": [],
      "source": [
        "import numpy as np\n",
        "\n",
        "\n",
        "def mse(vector1, vector2):\n",
        "    vector_array = np.array([vector1, vector2])\n",
        "    result = np.std(vector_array).round(3)\n",
        "    return result\n",
        "\n",
        "\n",
        "def test_mse():\n",
        "    assert mse([1, 2, 3], [4, 5, 6]) == 1.708, \"Test case 1 failed\"\n",
        "    assert mse([1, 1, 1], [4, 5, 6]) == 2.082, \"Test case 2 failed\"\n",
        "    assert mse([1, 2, 3, 4, 5], [5, 4, 3, 2, 1]) == 1.414, \"Test case 3 failed\"\n",
        "    assert mse([-1, 0, 1], [1, 0, -1]) == 0.816, \"Test case 4 failed\"\n",
        "    print(\"Everything passed\")\n",
        "\n",
        "\n",
        "if __name__ == \"__main__\":\n",
        "    test_mse()\n",
        "\n",
        "\n"
      ]
    },
    {
      "cell_type": "markdown",
      "metadata": {
        "id": "vpIPKL439zkw"
      },
      "source": [
        "# Задача 6\n",
        "Написать функцию, принимающая целое положительное число. Функция должна вернуть\n",
        "строку вида “(n1**p1)(n2**p2)…(nk**pk)” представляющая разложение числа на простые\n",
        "множители (если pi == 1, то выводить только ni).\n",
        "Например, для числа 86240 функция должна вернуть “(2**5)(5)(7**2)(11)”. Написать тесты для кода"
      ]
    },
    {
      "cell_type": "code",
      "execution_count": null,
      "metadata": {
        "id": "pFebmcZk94Jw"
      },
      "outputs": [],
      "source": [
        "import math\n",
        "\n",
        "\n",
        "def decompose(number):\n",
        "    result = \"\"\n",
        "    prime_factors = dict()\n",
        "\n",
        "    if number == 1:\n",
        "        return \"(1)\"\n",
        "\n",
        "    for i in range(2, int(math.sqrt(number)) + 1):\n",
        "        while number % i == 0:\n",
        "            if prime_factors.__contains__(i):\n",
        "                prime_factors[i] += 1\n",
        "            else:\n",
        "                prime_factors[i] = 1\n",
        "            number //= i\n",
        "\n",
        "    if number != 1:\n",
        "        if prime_factors.__contains__(number):\n",
        "            prime_factors[number] += 1\n",
        "        else:\n",
        "            prime_factors[number] = 1\n",
        "\n",
        "    for key in prime_factors:\n",
        "        value = prime_factors[key]\n",
        "        if value > 1:\n",
        "            result += f'({key}**{value})'\n",
        "        else:\n",
        "            result += f'({key})'\n",
        "    return result\n",
        "\n",
        "\n",
        "def test_decompose():\n",
        "    assert decompose(11) == \"(11)\", \"Test case 1 failed\"\n",
        "    assert decompose(1) == \"(1)\", \"Test case 2 failed\"\n",
        "    assert decompose(86240) == \"(2**5)(5)(7**2)(11)\", \"Test case 3 failed\"\n",
        "    assert decompose(64729) == \"(7**2)(1321)\", \"Test case 4 failed\"\n",
        "    assert decompose(27456128) == \"(2**7)(7)(30643)\", \"Test case 5 failed\"\n",
        "    print(\"Everything passed\")\n",
        "\n",
        "\n",
        "if __name__ == \"__main__\":\n",
        "    test_decompose()\n"
      ]
    },
    {
      "cell_type": "markdown",
      "metadata": {
        "id": "ps2s0BudX7A2"
      },
      "source": [
        "# Задача 7\n",
        "Написать функцию, принимающая целое число n, задающее количество кубиков. Функция\n",
        "должна определить, можно ли из данного кол-ва кубиков построить пирамиду, то есть\n",
        "можно ли представить число n как 1^2+2^2+3^2+…+k^2. Если можно, то функция должна\n",
        "вернуть k, иначе строку “It is impossible”. Написать тесты для кода"
      ]
    },
    {
      "cell_type": "code",
      "execution_count": null,
      "metadata": {
        "id": "3YPjEXxhX_YT"
      },
      "outputs": [],
      "source": [
        "def pyramid(number):\n",
        "    if number < 1:\n",
        "        return \"It is impossible\"\n",
        "\n",
        "    k = 0\n",
        "    cubes_amount = 0\n",
        "    while cubes_amount < number:\n",
        "        k += 1\n",
        "        cubes_amount += k ** 2\n",
        "\n",
        "    if cubes_amount == number:\n",
        "        return k\n",
        "    else:\n",
        "        return \"It is impossible\"\n",
        "\n",
        "\n",
        "def test_pyramid():\n",
        "    assert pyramid(0) == \"It is impossible\", \"Test case 1 failed\"\n",
        "    assert pyramid(-2) == \"It is impossible\", \"Test case 2 failed\"\n",
        "    assert pyramid(1) == 1, \"Test case 3 failed\"\n",
        "    assert pyramid(5) == 2, \"Test case 4 failed\"\n",
        "    assert pyramid(14) == 3, \"Test case 5 failed\"\n",
        "    assert pyramid(30) == 4, \"Test case 6 failed\"\n",
        "    print(\"All test cases passed!\")\n",
        "\n",
        "\n",
        "if __name__ == \"__main__\":\n",
        "    test_pyramid()\n"
      ]
    },
    {
      "cell_type": "markdown",
      "metadata": {
        "id": "KeKgmIdAQMEJ"
      },
      "source": [
        "# Задача 8\n",
        "Функция принимает на вход положительное число и определяет является ли оно сбалансированным, т.е. сумма цифр до средних равна сумме цифр после. Средними в случае нечетного числа цифр считать одну цифру, в случае четного - две средних. Написать тесты для кода"
      ]
    },
    {
      "cell_type": "code",
      "execution_count": null,
      "metadata": {
        "id": "gMAAqtqlQrZt"
      },
      "outputs": [],
      "source": [
        "def is_balanced_number(number):\n",
        "    digits = [int(d) for d in str(number)]\n",
        "    length = len(digits)\n",
        "\n",
        "    if length == 2 or length == 1:\n",
        "        return False\n",
        "\n",
        "    if length % 2 == 0:\n",
        "        mid1 = length // 2 - 1\n",
        "        mid2 = length // 2\n",
        "        sum_left = sum(digits[:mid1 + 1])\n",
        "        sum_right = sum(digits[mid2:])\n",
        "    else:\n",
        "        mid = length // 2\n",
        "        sum_left = sum(digits[:mid])\n",
        "        sum_right = sum(digits[mid + 1:])\n",
        "\n",
        "    return sum_left == sum_right\n",
        "\n",
        "\n",
        "def test_is_balanced_number():\n",
        "    assert is_balanced_number(123321) == True, \"Test case 1 failed\"\n",
        "    assert is_balanced_number(1231) == False, \"Test case 2 failed\"\n",
        "    assert is_balanced_number(1234321) == True, \"Test case 3 failed\"\n",
        "    assert is_balanced_number(123456) == False, \"Test case 4 failed\"\n",
        "    assert is_balanced_number(10) == False, \"Test case 5 failed\"\n",
        "    assert is_balanced_number(11) == False, \"Test case 6 failed\"\n",
        "    assert is_balanced_number(12345) == False, \"Test case 7 failed\"\n",
        "    assert is_balanced_number(1233213) == True, \"Test case 8 failed\"\n",
        "    assert is_balanced_number(0) == False, \"Test case 9 failed\"\n",
        "    print(\"All test cases passed!\")\n",
        "\n",
        "\n",
        "if __name__ == \"__main__\":\n",
        "    test_is_balanced_number()\n"
      ]
    }
  ],
  "metadata": {
    "colab": {
      "provenance": []
    },
    "kernelspec": {
      "display_name": "Python 3",
      "name": "python3"
    },
    "language_info": {
      "name": "python"
    }
  },
  "nbformat": 4,
  "nbformat_minor": 0
}
